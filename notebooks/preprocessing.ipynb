{
 "cells": [
  {
   "cell_type": "code",
   "execution_count": 179,
   "metadata": {},
   "outputs": [],
   "source": [
    "import pandas as pd\n",
    "from pandas import get_dummies\n",
    "import numpy as np\n",
    "import matplotlib.pyplot as plt\n",
    "import seaborn as sns\n",
    "import pickle\n",
    "sns.set(color_codes=True)\n",
    "sns.set(style='white',palette='muted')\n",
    "\n",
    "from matplotlib.ticker import StrMethodFormatter\n",
    "\n",
    "from sklearn import preprocessing, svm \n",
    "from sklearn.model_selection import train_test_split\n",
    "from sklearn.linear_model import LinearRegression, LogisticRegression, Lasso, Ridge, ElasticNet, BayesianRidge, SGDRegressor\n",
    "from sklearn.ensemble import AdaBoostRegressor, GradientBoostingRegressor\n",
    "from sklearn.preprocessing import StandardScaler, OneHotEncoder, MinMaxScaler, LabelEncoder\n",
    "from sklearn.pipeline import Pipeline, make_pipeline\n",
    "from sklearn.compose import ColumnTransformer\n",
    "from sklearn.metrics import mean_squared_error, r2_score"
   ]
  },
  {
   "cell_type": "code",
   "execution_count": 180,
   "metadata": {},
   "outputs": [
    {
     "name": "stderr",
     "output_type": "stream",
     "text": [
      "<>:1: SyntaxWarning: invalid escape sequence '\\c'\n",
      "<>:1: SyntaxWarning: invalid escape sequence '\\c'\n",
      "C:\\Users\\wasadmin\\AppData\\Local\\Temp\\2\\ipykernel_3036\\601828809.py:1: SyntaxWarning: invalid escape sequence '\\c'\n",
      "  df = pd.read_csv('C:\\capstone\\mongo\\output.csv')\n"
     ]
    }
   ],
   "source": [
    "df = pd.read_csv('C:\\capstone\\mongo\\output.csv')"
   ]
  },
  {
   "cell_type": "markdown",
   "metadata": {},
   "source": [
    "## Preprocessing"
   ]
  },
  {
   "cell_type": "code",
   "execution_count": 181,
   "metadata": {},
   "outputs": [],
   "source": [
    "df.columns\n",
    "df2=df"
   ]
  },
  {
   "cell_type": "code",
   "execution_count": 182,
   "metadata": {},
   "outputs": [
    {
     "data": {
      "text/plain": [
       "Unnamed: 0                                 int64\n",
       "result.name.first                         object\n",
       "result.name.last                          object\n",
       "result.username                           object\n",
       "result.password                           object\n",
       "result.phoneNumber                        object\n",
       "result.location.street                    object\n",
       "result.location.city                      object\n",
       "result.location.state                     object\n",
       "result.location.country                   object\n",
       "result.location.zip                       object\n",
       "result.location.coordinates.latitude     float64\n",
       "result.location.coordinates.longitude    float64\n",
       "result.job                                object\n",
       "result.salary                            float64\n",
       "result.objectId                           object\n",
       "id                                         int64\n",
       "dtype: object"
      ]
     },
     "execution_count": 182,
     "metadata": {},
     "output_type": "execute_result"
    }
   ],
   "source": [
    "df.dtypes"
   ]
  },
  {
   "cell_type": "code",
   "execution_count": 183,
   "metadata": {},
   "outputs": [],
   "source": [
    "# renaming columns\n",
    "df2.columns = df2.columns.str.replace('result.', '')\n",
    "df2.columns = df2.columns.str.replace('.', '_')\n"
   ]
  },
  {
   "cell_type": "code",
   "execution_count": 184,
   "metadata": {},
   "outputs": [
    {
     "data": {
      "text/plain": [
       "1200"
      ]
     },
     "execution_count": 184,
     "metadata": {},
     "output_type": "execute_result"
    }
   ],
   "source": [
    "# count\n",
    "df2.shape[0]"
   ]
  },
  {
   "cell_type": "code",
   "execution_count": 185,
   "metadata": {},
   "outputs": [
    {
     "data": {
      "text/html": [
       "<div>\n",
       "<style scoped>\n",
       "    .dataframe tbody tr th:only-of-type {\n",
       "        vertical-align: middle;\n",
       "    }\n",
       "\n",
       "    .dataframe tbody tr th {\n",
       "        vertical-align: top;\n",
       "    }\n",
       "\n",
       "    .dataframe thead th {\n",
       "        text-align: right;\n",
       "    }\n",
       "</style>\n",
       "<table border=\"1\" class=\"dataframe\">\n",
       "  <thead>\n",
       "    <tr style=\"text-align: right;\">\n",
       "      <th></th>\n",
       "      <th>Unnamed: 0</th>\n",
       "      <th>name_first</th>\n",
       "      <th>name_last</th>\n",
       "      <th>username</th>\n",
       "      <th>password</th>\n",
       "      <th>phoneNumber</th>\n",
       "      <th>location_street</th>\n",
       "      <th>location_city</th>\n",
       "      <th>location_state</th>\n",
       "      <th>location_country</th>\n",
       "      <th>location_zip</th>\n",
       "      <th>location_coordinates_latitude</th>\n",
       "      <th>location_coordinates_longitude</th>\n",
       "      <th>job</th>\n",
       "      <th>salary</th>\n",
       "      <th>objectId</th>\n",
       "      <th>id</th>\n",
       "    </tr>\n",
       "  </thead>\n",
       "  <tbody>\n",
       "    <tr>\n",
       "      <th>782</th>\n",
       "      <td>182</td>\n",
       "      <td>Napoleon</td>\n",
       "      <td>Parisian</td>\n",
       "      <td>Napoleon-Parisian</td>\n",
       "      <td>1RPuC6xASl8MTXd</td>\n",
       "      <td>401.300.0279 x9157</td>\n",
       "      <td>2041 McLaughlin Manor</td>\n",
       "      <td>Madison</td>\n",
       "      <td>North Carolina</td>\n",
       "      <td>Democratic Republic of the Congo</td>\n",
       "      <td>14157</td>\n",
       "      <td>22.3259</td>\n",
       "      <td>-94.8501</td>\n",
       "      <td>Corporate Integration Technician</td>\n",
       "      <td>251.0</td>\n",
       "      <td>66916acdc5d023f89ccba720</td>\n",
       "      <td>782</td>\n",
       "    </tr>\n",
       "  </tbody>\n",
       "</table>\n",
       "</div>"
      ],
      "text/plain": [
       "     Unnamed: 0 name_first name_last           username         password  \\\n",
       "782         182   Napoleon  Parisian  Napoleon-Parisian  1RPuC6xASl8MTXd   \n",
       "\n",
       "            phoneNumber        location_street location_city  location_state  \\\n",
       "782  401.300.0279 x9157  2041 McLaughlin Manor       Madison  North Carolina   \n",
       "\n",
       "                     location_country location_zip  \\\n",
       "782  Democratic Republic of the Congo        14157   \n",
       "\n",
       "     location_coordinates_latitude  location_coordinates_longitude  \\\n",
       "782                        22.3259                        -94.8501   \n",
       "\n",
       "                                  job  salary                  objectId   id  \n",
       "782  Corporate Integration Technician   251.0  66916acdc5d023f89ccba720  782  "
      ]
     },
     "execution_count": 185,
     "metadata": {},
     "output_type": "execute_result"
    }
   ],
   "source": [
    "# checking for duplicates\n",
    "duplicate = df2[df2.duplicated(['name_first','name_last'])]\n",
    "duplicate.head()\n"
   ]
  },
  {
   "cell_type": "code",
   "execution_count": 186,
   "metadata": {},
   "outputs": [],
   "source": [
    "# # dropping duplicates\n",
    "# df3=df2.drop_duplicates(subset=['name_first','name_last'])\n",
    "# df3.shape[0]"
   ]
  },
  {
   "cell_type": "code",
   "execution_count": 187,
   "metadata": {},
   "outputs": [
    {
     "data": {
      "text/plain": [
       "<Axes: >"
      ]
     },
     "execution_count": 187,
     "metadata": {},
     "output_type": "execute_result"
    }
   ],
   "source": [
    "#checking salary distribution\n",
    "df3=df2\n",
    "df3['salary'] = df3['salary'].apply(lambda x: x*100)\n",
    "df3.boxplot(column =['salary'], grid = True)"
   ]
  },
  {
   "cell_type": "code",
   "execution_count": 188,
   "metadata": {},
   "outputs": [
    {
     "name": "stdout",
     "output_type": "stream",
     "text": [
      "Unnamed: 0                        0\n",
      "name_first                        0\n",
      "name_last                         0\n",
      "username                          0\n",
      "password                          0\n",
      "phoneNumber                       0\n",
      "location_street                   0\n",
      "location_city                     0\n",
      "location_state                    0\n",
      "location_country                  0\n",
      "location_zip                      0\n",
      "location_coordinates_latitude     0\n",
      "location_coordinates_longitude    0\n",
      "job                               0\n",
      "salary                            0\n",
      "objectId                          0\n",
      "id                                0\n",
      "dtype: int64\n"
     ]
    }
   ],
   "source": [
    "# checking for nulls\n",
    "print(df3.isnull().sum())"
   ]
  },
  {
   "cell_type": "code",
   "execution_count": 189,
   "metadata": {},
   "outputs": [
    {
     "data": {
      "text/plain": [
       "Index(['Unnamed: 0', 'name_first', 'name_last', 'username', 'password',\n",
       "       'phoneNumber', 'location_street', 'location_city', 'location_state',\n",
       "       'location_country', 'location_zip', 'location_coordinates_latitude',\n",
       "       'location_coordinates_longitude', 'job', 'salary', 'objectId', 'id'],\n",
       "      dtype='object')"
      ]
     },
     "execution_count": 189,
     "metadata": {},
     "output_type": "execute_result"
    }
   ],
   "source": [
    "df3.columns"
   ]
  },
  {
   "cell_type": "code",
   "execution_count": 190,
   "metadata": {},
   "outputs": [
    {
     "data": {
      "text/html": [
       "<div>\n",
       "<style scoped>\n",
       "    .dataframe tbody tr th:only-of-type {\n",
       "        vertical-align: middle;\n",
       "    }\n",
       "\n",
       "    .dataframe tbody tr th {\n",
       "        vertical-align: top;\n",
       "    }\n",
       "\n",
       "    .dataframe thead th {\n",
       "        text-align: right;\n",
       "    }\n",
       "</style>\n",
       "<table border=\"1\" class=\"dataframe\">\n",
       "  <thead>\n",
       "    <tr style=\"text-align: right;\">\n",
       "      <th></th>\n",
       "      <th>location_state</th>\n",
       "      <th>job</th>\n",
       "      <th>salary</th>\n",
       "    </tr>\n",
       "  </thead>\n",
       "  <tbody>\n",
       "    <tr>\n",
       "      <th>0</th>\n",
       "      <td>Michigan</td>\n",
       "      <td>Senior Usability Consultant</td>\n",
       "      <td>21700.0</td>\n",
       "    </tr>\n",
       "    <tr>\n",
       "      <th>1</th>\n",
       "      <td>Tennessee</td>\n",
       "      <td>National Response Representative</td>\n",
       "      <td>11400.0</td>\n",
       "    </tr>\n",
       "    <tr>\n",
       "      <th>2</th>\n",
       "      <td>Minnesota</td>\n",
       "      <td>Legacy Directives Analyst</td>\n",
       "      <td>42100.0</td>\n",
       "    </tr>\n",
       "  </tbody>\n",
       "</table>\n",
       "</div>"
      ],
      "text/plain": [
       "  location_state                               job   salary\n",
       "0       Michigan       Senior Usability Consultant  21700.0\n",
       "1      Tennessee  National Response Representative  11400.0\n",
       "2      Minnesota         Legacy Directives Analyst  42100.0"
      ]
     },
     "execution_count": 190,
     "metadata": {},
     "output_type": "execute_result"
    }
   ],
   "source": [
    "features_df=df3[['location_state','job','salary']]\n",
    "features_df.head(3)"
   ]
  },
  {
   "cell_type": "code",
   "execution_count": 191,
   "metadata": {},
   "outputs": [
    {
     "data": {
      "text/plain": [
       "Index(['location_state', 'job', 'salary'], dtype='object')"
      ]
     },
     "execution_count": 191,
     "metadata": {},
     "output_type": "execute_result"
    }
   ],
   "source": [
    "features_df.columns"
   ]
  },
  {
   "cell_type": "markdown",
   "metadata": {},
   "source": [
    "## Linear Regression"
   ]
  },
  {
   "cell_type": "code",
   "execution_count": 192,
   "metadata": {},
   "outputs": [
    {
     "name": "stdout",
     "output_type": "stream",
     "text": [
      "Mean squared error: 731132038.2603713\n"
     ]
    },
    {
     "name": "stderr",
     "output_type": "stream",
     "text": [
      "C:\\Users\\wasadmin\\AppData\\Local\\Temp\\2\\ipykernel_3036\\2957863656.py:12: SettingWithCopyWarning: \n",
      "A value is trying to be set on a copy of a slice from a DataFrame.\n",
      "Try using .loc[row_indexer,col_indexer] = value instead\n",
      "\n",
      "See the caveats in the documentation: https://pandas.pydata.org/pandas-docs/stable/user_guide/indexing.html#returning-a-view-versus-a-copy\n",
      "  df['job_encoded'] = le_job.fit_transform(df['job'])\n",
      "C:\\Users\\wasadmin\\AppData\\Local\\Temp\\2\\ipykernel_3036\\2957863656.py:13: SettingWithCopyWarning: \n",
      "A value is trying to be set on a copy of a slice from a DataFrame.\n",
      "Try using .loc[row_indexer,col_indexer] = value instead\n",
      "\n",
      "See the caveats in the documentation: https://pandas.pydata.org/pandas-docs/stable/user_guide/indexing.html#returning-a-view-versus-a-copy\n",
      "  df['location_encoded'] = le_location.fit_transform(df['location_state'])\n"
     ]
    }
   ],
   "source": [
    "import pandas as pd\n",
    "from sklearn.model_selection import train_test_split\n",
    "from sklearn.linear_model import LinearRegression\n",
    "from sklearn.preprocessing import LabelEncoder\n",
    "from sklearn.metrics import mean_squared_error\n",
    "\n",
    "df=features_df\n",
    "\n",
    "# Encode categorical features (job and location)\n",
    "le_job = LabelEncoder()\n",
    "le_location = LabelEncoder()\n",
    "df['job_encoded'] = le_job.fit_transform(df['job'])\n",
    "df['location_encoded'] = le_location.fit_transform(df['location_state'])\n",
    "\n",
    "# Split data into train and test sets\n",
    "X = df[['job_encoded', 'location_encoded']]\n",
    "y = df['salary']\n",
    "X_train, X_test, y_train, y_test = train_test_split(X, y, test_size=0.2, random_state=42)\n",
    "\n",
    "# Create a linear regression model\n",
    "lr_model = LinearRegression()\n",
    "lr_model.fit(X_train, y_train)\n",
    "\n",
    "# Make predictions on the test set\n",
    "y_pred = lr_model.predict(X_test)\n",
    "\n",
    "# Calculate mean squared error\n",
    "mse = mean_squared_error(y_test, y_pred)\n",
    "\n",
    "# Print the model coefficients and mean squared error\n",
    "# print(f\"Model coefficients: {lr_model.coef_}\")\n",
    "# print(f\"Intercept: {lr_model.intercept_}\")\n",
    "print(f\"Mean squared error: {mse}\")"
   ]
  },
  {
   "cell_type": "code",
   "execution_count": 193,
   "metadata": {},
   "outputs": [
    {
     "name": "stdout",
     "output_type": "stream",
     "text": [
      "Predicted salary: 48107.75\n"
     ]
    },
    {
     "name": "stderr",
     "output_type": "stream",
     "text": [
      "C:\\Users\\wasadmin\\AppData\\Roaming\\Python\\Python312\\site-packages\\sklearn\\base.py:493: UserWarning: X does not have valid feature names, but LinearRegression was fitted with feature names\n",
      "  warnings.warn(\n"
     ]
    }
   ],
   "source": [
    "new_job_encoded = le_job.transform(['Central Applications Administrator'])[0]\n",
    "new_location_encoded = le_location.transform(['Texas'])[0]\n",
    "predicted_salary = lr_model.predict([[new_job_encoded, new_location_encoded]])[0]\n",
    "print(f\"Predicted salary: {predicted_salary:.2f}\")"
   ]
  },
  {
   "cell_type": "markdown",
   "metadata": {},
   "source": [
    "## Logistic Regression"
   ]
  },
  {
   "cell_type": "code",
   "execution_count": 194,
   "metadata": {},
   "outputs": [
    {
     "name": "stderr",
     "output_type": "stream",
     "text": [
      "C:\\Users\\wasadmin\\AppData\\Local\\Temp\\2\\ipykernel_3036\\3315101942.py:12: SettingWithCopyWarning: \n",
      "A value is trying to be set on a copy of a slice from a DataFrame.\n",
      "Try using .loc[row_indexer,col_indexer] = value instead\n",
      "\n",
      "See the caveats in the documentation: https://pandas.pydata.org/pandas-docs/stable/user_guide/indexing.html#returning-a-view-versus-a-copy\n",
      "  df['job_encoded'] = le_job.fit_transform(df['job'])\n",
      "C:\\Users\\wasadmin\\AppData\\Local\\Temp\\2\\ipykernel_3036\\3315101942.py:13: SettingWithCopyWarning: \n",
      "A value is trying to be set on a copy of a slice from a DataFrame.\n",
      "Try using .loc[row_indexer,col_indexer] = value instead\n",
      "\n",
      "See the caveats in the documentation: https://pandas.pydata.org/pandas-docs/stable/user_guide/indexing.html#returning-a-view-versus-a-copy\n",
      "  df['location_encoded'] = le_location.fit_transform(df['location_state'])\n"
     ]
    },
    {
     "name": "stdout",
     "output_type": "stream",
     "text": [
      "Mean squared error: 2218344000.0\n"
     ]
    },
    {
     "name": "stderr",
     "output_type": "stream",
     "text": [
      "C:\\Users\\wasadmin\\AppData\\Roaming\\Python\\Python312\\site-packages\\sklearn\\linear_model\\_logistic.py:469: ConvergenceWarning: lbfgs failed to converge (status=1):\n",
      "STOP: TOTAL NO. of ITERATIONS REACHED LIMIT.\n",
      "\n",
      "Increase the number of iterations (max_iter) or scale the data as shown in:\n",
      "    https://scikit-learn.org/stable/modules/preprocessing.html\n",
      "Please also refer to the documentation for alternative solver options:\n",
      "    https://scikit-learn.org/stable/modules/linear_model.html#logistic-regression\n",
      "  n_iter_i = _check_optimize_result(\n"
     ]
    }
   ],
   "source": [
    "import pandas as pd\n",
    "from sklearn.model_selection import train_test_split\n",
    "from sklearn.linear_model import LinearRegression\n",
    "from sklearn.preprocessing import LabelEncoder\n",
    "from sklearn.metrics import mean_squared_error\n",
    "\n",
    "df=features_df\n",
    "\n",
    "# Encode categorical features (job and location)\n",
    "le_job = LabelEncoder()\n",
    "le_location = LabelEncoder()\n",
    "df['job_encoded'] = le_job.fit_transform(df['job'])\n",
    "df['location_encoded'] = le_location.fit_transform(df['location_state'])\n",
    "\n",
    "# Split data into train and test sets\n",
    "X = df[['job_encoded', 'location_encoded']]\n",
    "y = df['salary']\n",
    "X_train, X_test, y_train, y_test = train_test_split(X, y, test_size=0.2, random_state=42)\n",
    "\n",
    "# Create a linear regression model\n",
    "lg_model = LogisticRegression()\n",
    "lg_model.fit(X_train, y_train)\n",
    "\n",
    "# Make predictions on the test set\n",
    "y_pred = lg_model.predict(X_test)\n",
    "\n",
    "# Calculate mean squared error\n",
    "mse = mean_squared_error(y_test, y_pred)\n",
    "\n",
    "# Print the model coefficients and mean squared error\n",
    "# print(f\"Model coefficients: {model.coef_}\")\n",
    "# print(f\"Intercept: {model.intercept_}\")\n",
    "print(f\"Mean squared error: {mse}\")"
   ]
  },
  {
   "cell_type": "code",
   "execution_count": 195,
   "metadata": {},
   "outputs": [
    {
     "name": "stdout",
     "output_type": "stream",
     "text": [
      "Predicted salary: 25300.00\n"
     ]
    },
    {
     "name": "stderr",
     "output_type": "stream",
     "text": [
      "C:\\Users\\wasadmin\\AppData\\Roaming\\Python\\Python312\\site-packages\\sklearn\\base.py:493: UserWarning: X does not have valid feature names, but LogisticRegression was fitted with feature names\n",
      "  warnings.warn(\n"
     ]
    }
   ],
   "source": [
    "new_job_encoded = le_job.transform(['Central Applications Administrator'])[0]\n",
    "new_location_encoded = le_location.transform(['Texas'])[0]\n",
    "predicted_salary = lg_model.predict([[new_job_encoded, new_location_encoded]])[0]\n",
    "print(f\"Predicted salary: {predicted_salary:.2f}\")"
   ]
  },
  {
   "cell_type": "markdown",
   "metadata": {},
   "source": [
    "## Ridge"
   ]
  },
  {
   "cell_type": "code",
   "execution_count": 196,
   "metadata": {},
   "outputs": [
    {
     "name": "stdout",
     "output_type": "stream",
     "text": [
      "Mean squared error: 731132038.5405833\n"
     ]
    },
    {
     "name": "stderr",
     "output_type": "stream",
     "text": [
      "C:\\Users\\wasadmin\\AppData\\Local\\Temp\\2\\ipykernel_3036\\1935957873.py:12: SettingWithCopyWarning: \n",
      "A value is trying to be set on a copy of a slice from a DataFrame.\n",
      "Try using .loc[row_indexer,col_indexer] = value instead\n",
      "\n",
      "See the caveats in the documentation: https://pandas.pydata.org/pandas-docs/stable/user_guide/indexing.html#returning-a-view-versus-a-copy\n",
      "  df['job_encoded'] = le_job.fit_transform(df['job'])\n",
      "C:\\Users\\wasadmin\\AppData\\Local\\Temp\\2\\ipykernel_3036\\1935957873.py:13: SettingWithCopyWarning: \n",
      "A value is trying to be set on a copy of a slice from a DataFrame.\n",
      "Try using .loc[row_indexer,col_indexer] = value instead\n",
      "\n",
      "See the caveats in the documentation: https://pandas.pydata.org/pandas-docs/stable/user_guide/indexing.html#returning-a-view-versus-a-copy\n",
      "  df['location_encoded'] = le_location.fit_transform(df['location_state'])\n"
     ]
    }
   ],
   "source": [
    "import pandas as pd\n",
    "from sklearn.model_selection import train_test_split\n",
    "from sklearn.linear_model import LinearRegression\n",
    "from sklearn.preprocessing import LabelEncoder\n",
    "from sklearn.metrics import mean_squared_error\n",
    "\n",
    "df=features_df\n",
    "\n",
    "# Encode categorical features (job and location)\n",
    "le_job = LabelEncoder()\n",
    "le_location = LabelEncoder()\n",
    "df['job_encoded'] = le_job.fit_transform(df['job'])\n",
    "df['location_encoded'] = le_location.fit_transform(df['location_state'])\n",
    "\n",
    "# Split data into train and test sets\n",
    "X = df[['job_encoded', 'location_encoded']]\n",
    "y = df['salary']\n",
    "X_train, X_test, y_train, y_test = train_test_split(X, y, test_size=0.2, random_state=42)\n",
    "\n",
    "# Create a linear regression model\n",
    "rdg_model = Ridge(alpha=0.1)\n",
    "rdg_model.fit(X_train, y_train)\n",
    "\n",
    "# Make predictions on the test set\n",
    "y_pred = rdg_model.predict(X_test)\n",
    "\n",
    "# Calculate mean squared error\n",
    "mse = mean_squared_error(y_test, y_pred)\n",
    "\n",
    "# Print the model coefficients and mean squared error\n",
    "# print(f\"Model coefficients: {model.coef_}\")\n",
    "# print(f\"Intercept: {model.intercept_}\")\n",
    "print(f\"Mean squared error: {mse}\")"
   ]
  },
  {
   "cell_type": "code",
   "execution_count": 197,
   "metadata": {},
   "outputs": [
    {
     "name": "stdout",
     "output_type": "stream",
     "text": [
      "Predicted salary: 48107.75\n"
     ]
    },
    {
     "name": "stderr",
     "output_type": "stream",
     "text": [
      "C:\\Users\\wasadmin\\AppData\\Roaming\\Python\\Python312\\site-packages\\sklearn\\base.py:493: UserWarning: X does not have valid feature names, but Ridge was fitted with feature names\n",
      "  warnings.warn(\n"
     ]
    }
   ],
   "source": [
    "new_job_encoded = le_job.transform(['Central Applications Administrator'])[0]\n",
    "new_location_encoded = le_location.transform(['Texas'])[0]\n",
    "predicted_salary = rdg_model.predict([[new_job_encoded, new_location_encoded]])[0]\n",
    "print(f\"Predicted salary: {predicted_salary:.2f}\")"
   ]
  },
  {
   "cell_type": "markdown",
   "metadata": {},
   "source": [
    "## Lasso"
   ]
  },
  {
   "cell_type": "code",
   "execution_count": 198,
   "metadata": {},
   "outputs": [
    {
     "name": "stdout",
     "output_type": "stream",
     "text": [
      "Mean squared error: 731132078.1118878\n"
     ]
    },
    {
     "name": "stderr",
     "output_type": "stream",
     "text": [
      "C:\\Users\\wasadmin\\AppData\\Local\\Temp\\2\\ipykernel_3036\\67176356.py:12: SettingWithCopyWarning: \n",
      "A value is trying to be set on a copy of a slice from a DataFrame.\n",
      "Try using .loc[row_indexer,col_indexer] = value instead\n",
      "\n",
      "See the caveats in the documentation: https://pandas.pydata.org/pandas-docs/stable/user_guide/indexing.html#returning-a-view-versus-a-copy\n",
      "  df['job_encoded'] = le_job.fit_transform(df['job'])\n",
      "C:\\Users\\wasadmin\\AppData\\Local\\Temp\\2\\ipykernel_3036\\67176356.py:13: SettingWithCopyWarning: \n",
      "A value is trying to be set on a copy of a slice from a DataFrame.\n",
      "Try using .loc[row_indexer,col_indexer] = value instead\n",
      "\n",
      "See the caveats in the documentation: https://pandas.pydata.org/pandas-docs/stable/user_guide/indexing.html#returning-a-view-versus-a-copy\n",
      "  df['location_encoded'] = le_location.fit_transform(df['location_state'])\n"
     ]
    }
   ],
   "source": [
    "import pandas as pd\n",
    "from sklearn.model_selection import train_test_split\n",
    "from sklearn.linear_model import LinearRegression\n",
    "from sklearn.preprocessing import LabelEncoder\n",
    "from sklearn.metrics import mean_squared_error\n",
    "\n",
    "df=features_df\n",
    "\n",
    "# Encode categorical features (job and location)\n",
    "le_job = LabelEncoder()\n",
    "le_location = LabelEncoder()\n",
    "df['job_encoded'] = le_job.fit_transform(df['job'])\n",
    "df['location_encoded'] = le_location.fit_transform(df['location_state'])\n",
    "\n",
    "# Split data into train and test sets\n",
    "X = df[['job_encoded', 'location_encoded']]\n",
    "y = df['salary']\n",
    "X_train, X_test, y_train, y_test = train_test_split(X, y, test_size=0.2, random_state=42)\n",
    "\n",
    "# Create a linear regression model\n",
    "ls_model = Lasso(alpha=0.1)\n",
    "ls_model.fit(X_train, y_train)\n",
    "\n",
    "# Make predictions on the test set\n",
    "y_pred = ls_model.predict(X_test)\n",
    "\n",
    "# Calculate mean squared error\n",
    "mse = mean_squared_error(y_test, y_pred)\n",
    "\n",
    "# Print the model coefficients and mean squared error\n",
    "# print(f\"Model coefficients: {model.coef_}\")\n",
    "# print(f\"Intercept: {model.intercept_}\")\n",
    "print(f\"Mean squared error: {mse}\")"
   ]
  },
  {
   "cell_type": "code",
   "execution_count": 199,
   "metadata": {},
   "outputs": [
    {
     "name": "stdout",
     "output_type": "stream",
     "text": [
      "Predicted salary: 48107.74\n"
     ]
    },
    {
     "name": "stderr",
     "output_type": "stream",
     "text": [
      "C:\\Users\\wasadmin\\AppData\\Roaming\\Python\\Python312\\site-packages\\sklearn\\base.py:493: UserWarning: X does not have valid feature names, but Lasso was fitted with feature names\n",
      "  warnings.warn(\n"
     ]
    }
   ],
   "source": [
    "new_job_encoded = le_job.transform(['Central Applications Administrator'])[0]\n",
    "new_location_encoded = le_location.transform(['Texas'])[0]\n",
    "predicted_salary = ls_model.predict([[new_job_encoded, new_location_encoded]])[0]\n",
    "print(f\"Predicted salary: {predicted_salary:.2f}\")"
   ]
  },
  {
   "cell_type": "markdown",
   "metadata": {},
   "source": [
    "## Elastic Net Regression"
   ]
  },
  {
   "cell_type": "code",
   "execution_count": 200,
   "metadata": {},
   "outputs": [
    {
     "name": "stderr",
     "output_type": "stream",
     "text": [
      "C:\\Users\\wasadmin\\AppData\\Local\\Temp\\2\\ipykernel_3036\\335408979.py:12: SettingWithCopyWarning: \n",
      "A value is trying to be set on a copy of a slice from a DataFrame.\n",
      "Try using .loc[row_indexer,col_indexer] = value instead\n",
      "\n",
      "See the caveats in the documentation: https://pandas.pydata.org/pandas-docs/stable/user_guide/indexing.html#returning-a-view-versus-a-copy\n",
      "  df['job_encoded'] = le_job.fit_transform(df['job'])\n",
      "C:\\Users\\wasadmin\\AppData\\Local\\Temp\\2\\ipykernel_3036\\335408979.py:13: SettingWithCopyWarning: \n",
      "A value is trying to be set on a copy of a slice from a DataFrame.\n",
      "Try using .loc[row_indexer,col_indexer] = value instead\n",
      "\n",
      "See the caveats in the documentation: https://pandas.pydata.org/pandas-docs/stable/user_guide/indexing.html#returning-a-view-versus-a-copy\n",
      "  df['location_encoded'] = le_location.fit_transform(df['location_state'])\n"
     ]
    },
    {
     "name": "stdout",
     "output_type": "stream",
     "text": [
      "Mean squared error: 731132192.6507299\n"
     ]
    }
   ],
   "source": [
    "import pandas as pd\n",
    "from sklearn.model_selection import train_test_split\n",
    "from sklearn.linear_model import LinearRegression\n",
    "from sklearn.preprocessing import LabelEncoder\n",
    "from sklearn.metrics import mean_squared_error\n",
    "\n",
    "df=features_df\n",
    "\n",
    "# Encode categorical features (job and location)\n",
    "le_job = LabelEncoder()\n",
    "le_location = LabelEncoder()\n",
    "df['job_encoded'] = le_job.fit_transform(df['job'])\n",
    "df['location_encoded'] = le_location.fit_transform(df['location_state'])\n",
    "\n",
    "# Split data into train and test sets\n",
    "X = df[['job_encoded', 'location_encoded']]\n",
    "y = df['salary']\n",
    "X_train, X_test, y_train, y_test = train_test_split(X, y, test_size=0.2, random_state=42)\n",
    "\n",
    "# Create a linear regression model\n",
    "en_model = ElasticNet(alpha=0.1)\n",
    "en_model.fit(X_train, y_train)\n",
    "\n",
    "# Make predictions on the test set\n",
    "y_pred = en_model.predict(X_test)\n",
    "\n",
    "# Calculate mean squared error\n",
    "mse = mean_squared_error(y_test, y_pred)\n",
    "\n",
    "# Print the model coefficients and mean squared error\n",
    "# print(f\"Model coefficients: {model.coef_}\")\n",
    "# print(f\"Intercept: {model.intercept_}\")\n",
    "print(f\"Mean squared error: {mse}\")"
   ]
  },
  {
   "cell_type": "code",
   "execution_count": 201,
   "metadata": {},
   "outputs": [
    {
     "name": "stdout",
     "output_type": "stream",
     "text": [
      "Predicted salary: 48107.72\n"
     ]
    },
    {
     "name": "stderr",
     "output_type": "stream",
     "text": [
      "C:\\Users\\wasadmin\\AppData\\Roaming\\Python\\Python312\\site-packages\\sklearn\\base.py:493: UserWarning: X does not have valid feature names, but ElasticNet was fitted with feature names\n",
      "  warnings.warn(\n"
     ]
    }
   ],
   "source": [
    "new_job_encoded = le_job.transform(['Central Applications Administrator'])[0]\n",
    "new_location_encoded = le_location.transform(['Texas'])[0]\n",
    "predicted_salary = en_model.predict([[new_job_encoded, new_location_encoded]])[0]\n",
    "print(f\"Predicted salary: {predicted_salary:.2f}\")"
   ]
  },
  {
   "cell_type": "markdown",
   "metadata": {},
   "source": [
    "## Bayesian Ridge Regression"
   ]
  },
  {
   "cell_type": "code",
   "execution_count": 202,
   "metadata": {},
   "outputs": [
    {
     "name": "stderr",
     "output_type": "stream",
     "text": [
      "C:\\Users\\wasadmin\\AppData\\Local\\Temp\\2\\ipykernel_3036\\2247552724.py:12: SettingWithCopyWarning: \n",
      "A value is trying to be set on a copy of a slice from a DataFrame.\n",
      "Try using .loc[row_indexer,col_indexer] = value instead\n",
      "\n",
      "See the caveats in the documentation: https://pandas.pydata.org/pandas-docs/stable/user_guide/indexing.html#returning-a-view-versus-a-copy\n",
      "  df['job_encoded'] = le_job.fit_transform(df['job'])\n",
      "C:\\Users\\wasadmin\\AppData\\Local\\Temp\\2\\ipykernel_3036\\2247552724.py:13: SettingWithCopyWarning: \n",
      "A value is trying to be set on a copy of a slice from a DataFrame.\n",
      "Try using .loc[row_indexer,col_indexer] = value instead\n",
      "\n",
      "See the caveats in the documentation: https://pandas.pydata.org/pandas-docs/stable/user_guide/indexing.html#returning-a-view-versus-a-copy\n",
      "  df['location_encoded'] = le_location.fit_transform(df['location_state'])\n"
     ]
    },
    {
     "name": "stdout",
     "output_type": "stream",
     "text": [
      "Mean squared error: 729360431.9842308\n"
     ]
    }
   ],
   "source": [
    "import pandas as pd\n",
    "from sklearn.model_selection import train_test_split\n",
    "from sklearn.linear_model import LinearRegression\n",
    "from sklearn.preprocessing import LabelEncoder\n",
    "from sklearn.metrics import mean_squared_error\n",
    "\n",
    "df=features_df\n",
    "\n",
    "# Encode categorical features (job and location)\n",
    "le_job = LabelEncoder()\n",
    "le_location = LabelEncoder()\n",
    "df['job_encoded'] = le_job.fit_transform(df['job'])\n",
    "df['location_encoded'] = le_location.fit_transform(df['location_state'])\n",
    "\n",
    "# Split data into train and test sets\n",
    "X = df[['job_encoded', 'location_encoded']]\n",
    "y = df['salary']\n",
    "X_train, X_test, y_train, y_test = train_test_split(X, y, test_size=0.2, random_state=42)\n",
    "\n",
    "# Create a linear regression model\n",
    "model = BayesianRidge()\n",
    "model.fit(X_train, y_train)\n",
    "\n",
    "# Make predictions on the test set\n",
    "y_pred = model.predict(X_test)\n",
    "\n",
    "# Calculate mean squared error\n",
    "mse = mean_squared_error(y_test, y_pred)\n",
    "\n",
    "# Print the model coefficients and mean squared error\n",
    "# print(f\"Model coefficients: {model.coef_}\")\n",
    "# print(f\"Intercept: {model.intercept_}\")\n",
    "print(f\"Mean squared error: {mse}\")"
   ]
  },
  {
   "cell_type": "code",
   "execution_count": 203,
   "metadata": {},
   "outputs": [
    {
     "name": "stderr",
     "output_type": "stream",
     "text": [
      "C:\\Users\\wasadmin\\AppData\\Roaming\\Python\\Python312\\site-packages\\sklearn\\base.py:493: UserWarning: X does not have valid feature names, but BayesianRidge was fitted with feature names\n",
      "  warnings.warn(\n"
     ]
    },
    {
     "name": "stdout",
     "output_type": "stream",
     "text": [
      "Predicted salary: 49385.58\n"
     ]
    }
   ],
   "source": [
    "new_job_encoded = le_job.transform(['Central Applications Administrator'])[0]\n",
    "new_location_encoded = le_location.transform(['Texas'])[0]\n",
    "predicted_salary = model.predict([[new_job_encoded, new_location_encoded]])[0]\n",
    "print(f\"Predicted salary: {predicted_salary:.2f}\")"
   ]
  },
  {
   "cell_type": "markdown",
   "metadata": {},
   "source": [
    "## Pickle File"
   ]
  },
  {
   "cell_type": "code",
   "execution_count": 204,
   "metadata": {},
   "outputs": [],
   "source": [
    "import pickle\n",
    "\n",
    "# Specify the file path to save the pipeline\n",
    "lr_pipeline = 'lr_pipeline.pkl'\n",
    "lg_pipeline = 'lg_pipeline.pkl'\n",
    "rdg_pipeline = 'rdg_pipeline.pkl'\n",
    "en_pipeline = 'en_pipeline.pkl'\n",
    "\n",
    "\n",
    "# Save the pipeline to disk\n",
    "with open(lr_pipeline, 'wb') as file:\n",
    "    pickle.dump(lr_model, file)\n",
    "with open(lg_pipeline, 'wb') as file:\n",
    "    pickle.dump(lg_model, file)\n",
    "with open(rdg_pipeline, 'wb') as file:\n",
    "    pickle.dump(rdg_model, file)\n",
    "with open(en_pipeline, 'wb') as file:\n",
    "    pickle.dump(en_model, file)"
   ]
  }
 ],
 "metadata": {
  "kernelspec": {
   "display_name": "Python 3",
   "language": "python",
   "name": "python3"
  },
  "language_info": {
   "codemirror_mode": {
    "name": "ipython",
    "version": 3
   },
   "file_extension": ".py",
   "mimetype": "text/x-python",
   "name": "python",
   "nbconvert_exporter": "python",
   "pygments_lexer": "ipython3",
   "version": "3.12.3"
  }
 },
 "nbformat": 4,
 "nbformat_minor": 2
}
