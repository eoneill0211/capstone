{
 "cells": [
  {
   "cell_type": "code",
   "execution_count": 43,
   "metadata": {},
   "outputs": [],
   "source": [
    "import pandas as pd\n",
    "import numpy as np\n",
    "import matplotlib.pyplot as plt\n",
    "import seaborn as sns\n",
    "sns.set(color_codes=True)\n",
    "sns.set(style='white',palette='muted')\n",
    "\n",
    "\n",
    "\n",
    "from matplotlib.ticker import StrMethodFormatter\n",
    "\n",
    "from sklearn import preprocessing, svm \n",
    "from sklearn.model_selection import train_test_split\n",
    "from sklearn.linear_model import LinearRegression, LogisticRegression, Ridge #Lasso\n",
    "from sklearn.ensemble import AdaBoostRegressor\n",
    "import xgboost as xg\n",
    "from sklearn.preprocessing import StandardScaler, OneHotEncoder, MinMaxScaler, LabelEncoder\n",
    "from sklearn.pipeline import Pipeline, make_pipeline\n",
    "from sklearn.compose import ColumnTransformer\n",
    "from sklearn.metrics import accuracy_score, precision_score, recall_score, f1_score, mean_squared_error, r2_score"
   ]
  },
  {
   "cell_type": "code",
   "execution_count": 44,
   "metadata": {},
   "outputs": [
    {
     "name": "stderr",
     "output_type": "stream",
     "text": [
      "<>:1: SyntaxWarning: invalid escape sequence '\\c'\n",
      "<>:1: SyntaxWarning: invalid escape sequence '\\c'\n",
      "C:\\Users\\wasadmin\\AppData\\Local\\Temp\\2\\ipykernel_7532\\601828809.py:1: SyntaxWarning: invalid escape sequence '\\c'\n",
      "  df = pd.read_csv('C:\\capstone\\mongo\\output.csv')\n"
     ]
    }
   ],
   "source": [
    "df = pd.read_csv('C:\\capstone\\mongo\\output.csv')"
   ]
  },
  {
   "cell_type": "markdown",
   "metadata": {},
   "source": [
    "## Preprocessing"
   ]
  },
  {
   "cell_type": "code",
   "execution_count": 45,
   "metadata": {},
   "outputs": [],
   "source": [
    "df.columns\n",
    "df2=df"
   ]
  },
  {
   "cell_type": "code",
   "execution_count": 46,
   "metadata": {},
   "outputs": [
    {
     "data": {
      "text/plain": [
       "Unnamed: 0                                 int64\n",
       "result.name.first                         object\n",
       "result.name.last                          object\n",
       "result.username                           object\n",
       "result.password                           object\n",
       "result.phoneNumber                        object\n",
       "result.location.street                    object\n",
       "result.location.city                      object\n",
       "result.location.state                     object\n",
       "result.location.country                   object\n",
       "result.location.zip                       object\n",
       "result.location.coordinates.latitude     float64\n",
       "result.location.coordinates.longitude    float64\n",
       "result.job                                object\n",
       "result.salary                            float64\n",
       "result.objectId                           object\n",
       "id                                         int64\n",
       "dtype: object"
      ]
     },
     "execution_count": 46,
     "metadata": {},
     "output_type": "execute_result"
    }
   ],
   "source": [
    "df.dtypes"
   ]
  },
  {
   "cell_type": "code",
   "execution_count": 47,
   "metadata": {},
   "outputs": [],
   "source": [
    "# renaming columns\n",
    "df2.columns = df2.columns.str.replace('result.', '')\n",
    "df2.columns = df2.columns.str.replace('.', '_')\n"
   ]
  },
  {
   "cell_type": "code",
   "execution_count": 48,
   "metadata": {},
   "outputs": [
    {
     "data": {
      "text/plain": [
       "1200"
      ]
     },
     "execution_count": 48,
     "metadata": {},
     "output_type": "execute_result"
    }
   ],
   "source": [
    "# count\n",
    "df2.shape[0]"
   ]
  },
  {
   "cell_type": "code",
   "execution_count": 49,
   "metadata": {},
   "outputs": [
    {
     "data": {
      "text/html": [
       "<div>\n",
       "<style scoped>\n",
       "    .dataframe tbody tr th:only-of-type {\n",
       "        vertical-align: middle;\n",
       "    }\n",
       "\n",
       "    .dataframe tbody tr th {\n",
       "        vertical-align: top;\n",
       "    }\n",
       "\n",
       "    .dataframe thead th {\n",
       "        text-align: right;\n",
       "    }\n",
       "</style>\n",
       "<table border=\"1\" class=\"dataframe\">\n",
       "  <thead>\n",
       "    <tr style=\"text-align: right;\">\n",
       "      <th></th>\n",
       "      <th>Unnamed: 0</th>\n",
       "      <th>name_first</th>\n",
       "      <th>name_last</th>\n",
       "      <th>username</th>\n",
       "      <th>password</th>\n",
       "      <th>phoneNumber</th>\n",
       "      <th>location_street</th>\n",
       "      <th>location_city</th>\n",
       "      <th>location_state</th>\n",
       "      <th>location_country</th>\n",
       "      <th>location_zip</th>\n",
       "      <th>location_coordinates_latitude</th>\n",
       "      <th>location_coordinates_longitude</th>\n",
       "      <th>job</th>\n",
       "      <th>salary</th>\n",
       "      <th>objectId</th>\n",
       "      <th>id</th>\n",
       "    </tr>\n",
       "  </thead>\n",
       "  <tbody>\n",
       "    <tr>\n",
       "      <th>782</th>\n",
       "      <td>182</td>\n",
       "      <td>Napoleon</td>\n",
       "      <td>Parisian</td>\n",
       "      <td>Napoleon-Parisian</td>\n",
       "      <td>1RPuC6xASl8MTXd</td>\n",
       "      <td>401.300.0279 x9157</td>\n",
       "      <td>2041 McLaughlin Manor</td>\n",
       "      <td>Madison</td>\n",
       "      <td>North Carolina</td>\n",
       "      <td>Democratic Republic of the Congo</td>\n",
       "      <td>14157</td>\n",
       "      <td>22.3259</td>\n",
       "      <td>-94.8501</td>\n",
       "      <td>Corporate Integration Technician</td>\n",
       "      <td>251.0</td>\n",
       "      <td>66916acdc5d023f89ccba720</td>\n",
       "      <td>782</td>\n",
       "    </tr>\n",
       "  </tbody>\n",
       "</table>\n",
       "</div>"
      ],
      "text/plain": [
       "     Unnamed: 0 name_first name_last           username         password  \\\n",
       "782         182   Napoleon  Parisian  Napoleon-Parisian  1RPuC6xASl8MTXd   \n",
       "\n",
       "            phoneNumber        location_street location_city  location_state  \\\n",
       "782  401.300.0279 x9157  2041 McLaughlin Manor       Madison  North Carolina   \n",
       "\n",
       "                     location_country location_zip  \\\n",
       "782  Democratic Republic of the Congo        14157   \n",
       "\n",
       "     location_coordinates_latitude  location_coordinates_longitude  \\\n",
       "782                        22.3259                        -94.8501   \n",
       "\n",
       "                                  job  salary                  objectId   id  \n",
       "782  Corporate Integration Technician   251.0  66916acdc5d023f89ccba720  782  "
      ]
     },
     "execution_count": 49,
     "metadata": {},
     "output_type": "execute_result"
    }
   ],
   "source": [
    "# checking for duplicates\n",
    "duplicate = df2[df2.duplicated(['name_first','name_last'])]\n",
    "duplicate.head()\n"
   ]
  },
  {
   "cell_type": "code",
   "execution_count": 50,
   "metadata": {},
   "outputs": [],
   "source": [
    "# # dropping duplicates\n",
    "# df3=df2.drop_duplicates(subset=['name_first','name_last'])\n",
    "# df3.shape[0]"
   ]
  },
  {
   "cell_type": "code",
   "execution_count": 51,
   "metadata": {},
   "outputs": [
    {
     "data": {
      "text/plain": [
       "<Axes: >"
      ]
     },
     "execution_count": 51,
     "metadata": {},
     "output_type": "execute_result"
    }
   ],
   "source": [
    "#checking salary distribution\n",
    "df3=df2\n",
    "df3['salary'] = df3['salary'].apply(lambda x: x*100)\n",
    "df3.boxplot(column =['salary'], grid = True)"
   ]
  },
  {
   "cell_type": "code",
   "execution_count": 52,
   "metadata": {},
   "outputs": [
    {
     "name": "stdout",
     "output_type": "stream",
     "text": [
      "Unnamed: 0                        0\n",
      "name_first                        0\n",
      "name_last                         0\n",
      "username                          0\n",
      "password                          0\n",
      "phoneNumber                       0\n",
      "location_street                   0\n",
      "location_city                     0\n",
      "location_state                    0\n",
      "location_country                  0\n",
      "location_zip                      0\n",
      "location_coordinates_latitude     0\n",
      "location_coordinates_longitude    0\n",
      "job                               0\n",
      "salary                            0\n",
      "objectId                          0\n",
      "id                                0\n",
      "dtype: int64\n"
     ]
    }
   ],
   "source": [
    "# checking for nulls\n",
    "print(df3.isnull().sum())"
   ]
  },
  {
   "cell_type": "code",
   "execution_count": 53,
   "metadata": {},
   "outputs": [
    {
     "data": {
      "text/plain": [
       "Index(['Unnamed: 0', 'name_first', 'name_last', 'username', 'password',\n",
       "       'phoneNumber', 'location_street', 'location_city', 'location_state',\n",
       "       'location_country', 'location_zip', 'location_coordinates_latitude',\n",
       "       'location_coordinates_longitude', 'job', 'salary', 'objectId', 'id'],\n",
       "      dtype='object')"
      ]
     },
     "execution_count": 53,
     "metadata": {},
     "output_type": "execute_result"
    }
   ],
   "source": [
    "df3.columns"
   ]
  },
  {
   "cell_type": "code",
   "execution_count": 64,
   "metadata": {},
   "outputs": [
    {
     "data": {
      "text/html": [
       "<div>\n",
       "<style scoped>\n",
       "    .dataframe tbody tr th:only-of-type {\n",
       "        vertical-align: middle;\n",
       "    }\n",
       "\n",
       "    .dataframe tbody tr th {\n",
       "        vertical-align: top;\n",
       "    }\n",
       "\n",
       "    .dataframe thead th {\n",
       "        text-align: right;\n",
       "    }\n",
       "</style>\n",
       "<table border=\"1\" class=\"dataframe\">\n",
       "  <thead>\n",
       "    <tr style=\"text-align: right;\">\n",
       "      <th></th>\n",
       "      <th>location_state</th>\n",
       "      <th>job</th>\n",
       "      <th>salary</th>\n",
       "    </tr>\n",
       "  </thead>\n",
       "  <tbody>\n",
       "    <tr>\n",
       "      <th>0</th>\n",
       "      <td>Michigan</td>\n",
       "      <td>Senior Usability Consultant</td>\n",
       "      <td>21700.0</td>\n",
       "    </tr>\n",
       "    <tr>\n",
       "      <th>1</th>\n",
       "      <td>Tennessee</td>\n",
       "      <td>National Response Representative</td>\n",
       "      <td>11400.0</td>\n",
       "    </tr>\n",
       "    <tr>\n",
       "      <th>2</th>\n",
       "      <td>Minnesota</td>\n",
       "      <td>Legacy Directives Analyst</td>\n",
       "      <td>42100.0</td>\n",
       "    </tr>\n",
       "  </tbody>\n",
       "</table>\n",
       "</div>"
      ],
      "text/plain": [
       "  location_state                               job   salary\n",
       "0       Michigan       Senior Usability Consultant  21700.0\n",
       "1      Tennessee  National Response Representative  11400.0\n",
       "2      Minnesota         Legacy Directives Analyst  42100.0"
      ]
     },
     "execution_count": 64,
     "metadata": {},
     "output_type": "execute_result"
    }
   ],
   "source": [
    "features_df=df3[['location_state','job','salary']]\n",
    "features_df.head(3)"
   ]
  },
  {
   "cell_type": "code",
   "execution_count": 65,
   "metadata": {},
   "outputs": [
    {
     "data": {
      "text/plain": [
       "Index(['location_state', 'job', 'salary'], dtype='object')"
      ]
     },
     "execution_count": 65,
     "metadata": {},
     "output_type": "execute_result"
    }
   ],
   "source": [
    "features_df.columns"
   ]
  },
  {
   "cell_type": "markdown",
   "metadata": {},
   "source": [
    "## Linear Regression"
   ]
  },
  {
   "cell_type": "code",
   "execution_count": 58,
   "metadata": {},
   "outputs": [],
   "source": [
    "PARAM_VALIDATION_ESTIMATORS_TO_IGNORE = [ True]\n",
    "global_skip_validation = True\n",
    "partial_fit_and_fitted = True"
   ]
  },
  {
   "cell_type": "code",
   "execution_count": 66,
   "metadata": {},
   "outputs": [],
   "source": [
    "y = features_df['salary']\n",
    "X = features_df[['location_state','job']]\n",
    "X = pd.get_dummies(X,columns=['location_state','job'])\n",
    "y = pd.get_dummies(y,columns=['salary'])\n",
    "X_train, X_test, y_train, y_test = train_test_split (X, y, test_size=0.1)"
   ]
  },
  {
   "cell_type": "code",
   "execution_count": 67,
   "metadata": {},
   "outputs": [
    {
     "name": "stdout",
     "output_type": "stream",
     "text": [
      "R-sqaured  -1.5558515229130156e+20\n",
      "Mean Squared Error:  2.845026644314309e+19\n"
     ]
    }
   ],
   "source": [
    "\n",
    "lr=LinearRegression()\n",
    "lr.fit(X_train,y_train)\n",
    "y_pred=lr.predict(X_test)\n",
    "\n",
    "# Calculate accuracy\n",
    "# accuracy = accuracy_score(y_test, y_pred)\n",
    "# print(\"Accuracy:\", accuracy)\n",
    "# print('Mean Squared Error: ', mean_squared_error(y_test,y_pred))'\n",
    "\n",
    "print('R-sqaured ', r2_score(y_test,y_pred))\n",
    "print('Mean Squared Error: ', mean_squared_error(y_test,y_pred))\n"
   ]
  },
  {
   "cell_type": "markdown",
   "metadata": {},
   "source": [
    "## Logistic Regression"
   ]
  },
  {
   "cell_type": "code",
   "execution_count": 68,
   "metadata": {},
   "outputs": [
    {
     "name": "stderr",
     "output_type": "stream",
     "text": [
      "C:\\Users\\wasadmin\\AppData\\Local\\Temp\\2\\ipykernel_7532\\2249049334.py:1: SettingWithCopyWarning: \n",
      "A value is trying to be set on a copy of a slice from a DataFrame.\n",
      "Try using .loc[row_indexer,col_indexer] = value instead\n",
      "\n",
      "See the caveats in the documentation: https://pandas.pydata.org/pandas-docs/stable/user_guide/indexing.html#returning-a-view-versus-a-copy\n",
      "  y = features_df['salary'] = features_df['salary']\n"
     ]
    },
    {
     "name": "stdout",
     "output_type": "stream",
     "text": [
      "R-sqaured  -1.041669270116039\n",
      "Mean Squared Error:  82462.57407407407\n"
     ]
    }
   ],
   "source": [
    "y = features_df['salary'] = features_df['salary']\n",
    "X = features_df[['location_state','job']]\n",
    "label_encoder=LabelEncoder()\n",
    "y_encoded=label_encoder.fit_transform(y)\n",
    "y_encoded=y_encoded.ravel()\n",
    "\n",
    "X_encoded=pd.get_dummies(X,drop_first=True)\n",
    "X_train, X_test, y_train, y_test = train_test_split (X_encoded, y_encoded, test_size=0.45)\n",
    "\n",
    "lg = LogisticRegression()\n",
    "lg.fit(X_train,y_train)\n",
    "y_pred=lg.predict(X_test)\n",
    "\n",
    "print('R-sqaured ', r2_score(y_test,y_pred))\n",
    "print('Mean Squared Error: ', mean_squared_error(y_test,y_pred))\n"
   ]
  },
  {
   "cell_type": "markdown",
   "metadata": {},
   "source": [
    "## XGBoost"
   ]
  },
  {
   "cell_type": "code",
   "execution_count": 69,
   "metadata": {},
   "outputs": [
    {
     "name": "stderr",
     "output_type": "stream",
     "text": [
      "C:\\Users\\wasadmin\\AppData\\Local\\Temp\\2\\ipykernel_7532\\2308308414.py:1: SettingWithCopyWarning: \n",
      "A value is trying to be set on a copy of a slice from a DataFrame.\n",
      "Try using .loc[row_indexer,col_indexer] = value instead\n",
      "\n",
      "See the caveats in the documentation: https://pandas.pydata.org/pandas-docs/stable/user_guide/indexing.html#returning-a-view-versus-a-copy\n",
      "  y = features_df['salary'] = features_df['salary']\n"
     ]
    },
    {
     "name": "stdout",
     "output_type": "stream",
     "text": [
      "R-sqaured  -0.03589463233947754\n",
      "Mean Squared Error:  40926.654278208014\n"
     ]
    }
   ],
   "source": [
    "y = features_df['salary'] = features_df['salary']\n",
    "X = features_df[['location_state','job']]\n",
    "label_encoder=LabelEncoder()\n",
    "y_encoded=label_encoder.fit_transform(y)\n",
    "y_encoded=y_encoded.ravel()\n",
    "\n",
    "X_encoded = pd.get_dummies(X,drop_first=True)\n",
    "X_train, X_test, y_train, y_test = train_test_split (X_encoded, y_encoded, test_size=0.3)\n",
    "\n",
    "xgb = xg.XGBRegressor()\n",
    "xgb.fit(X_train,y_train)\n",
    "y_pred=xgb.predict(X_test)\n",
    "\n",
    "print('R-sqaured ', r2_score(y_test,y_pred))\n",
    "print('Mean Squared Error: ', mean_squared_error(y_test,y_pred))"
   ]
  },
  {
   "cell_type": "markdown",
   "metadata": {},
   "source": [
    "## AdaBoost"
   ]
  },
  {
   "cell_type": "code",
   "execution_count": 70,
   "metadata": {},
   "outputs": [
    {
     "name": "stderr",
     "output_type": "stream",
     "text": [
      "C:\\Users\\wasadmin\\AppData\\Local\\Temp\\2\\ipykernel_7532\\175889131.py:1: SettingWithCopyWarning: \n",
      "A value is trying to be set on a copy of a slice from a DataFrame.\n",
      "Try using .loc[row_indexer,col_indexer] = value instead\n",
      "\n",
      "See the caveats in the documentation: https://pandas.pydata.org/pandas-docs/stable/user_guide/indexing.html#returning-a-view-versus-a-copy\n",
      "  y = features_df['salary'] = features_df['salary']\n"
     ]
    },
    {
     "name": "stdout",
     "output_type": "stream",
     "text": [
      "R-sqaured  -0.04693920717308697\n",
      "Mean Squared Error:  41694.83122008267\n"
     ]
    }
   ],
   "source": [
    "y = features_df['salary'] = features_df['salary']\n",
    "X = features_df[['location_state','job']]\n",
    "label_encoder=LabelEncoder()\n",
    "y_encoded=label_encoder.fit_transform(y)\n",
    "y_encoded=y_encoded.ravel()\n",
    "\n",
    "X_encoded = pd.get_dummies(X,drop_first=True)\n",
    "X_train, X_test, y_train, y_test = train_test_split (X_encoded, y_encoded, test_size=0.3)\n",
    "\n",
    "adr = AdaBoostRegressor()\n",
    "adr.fit(X_train,y_train)\n",
    "y_pred=adr.predict(X_test)\n",
    "\n",
    "print('R-sqaured ', r2_score(y_test,y_pred))\n",
    "print('Mean Squared Error: ', mean_squared_error(y_test,y_pred))"
   ]
  }
 ],
 "metadata": {
  "kernelspec": {
   "display_name": "Python 3",
   "language": "python",
   "name": "python3"
  },
  "language_info": {
   "codemirror_mode": {
    "name": "ipython",
    "version": 3
   },
   "file_extension": ".py",
   "mimetype": "text/x-python",
   "name": "python",
   "nbconvert_exporter": "python",
   "pygments_lexer": "ipython3",
   "version": "3.12.3"
  }
 },
 "nbformat": 4,
 "nbformat_minor": 2
}
